{
 "cells": [
  {
   "cell_type": "markdown",
   "id": "a8f19857",
   "metadata": {},
   "source": [
    "# Question 1: Basic List Operations"
   ]
  },
  {
   "cell_type": "markdown",
   "id": "ea5b36af",
   "metadata": {},
   "source": [
    "### a) Create a list named `fruits` containing the following items: \"apple\", \"banana\", \"orange\", \"grape\", \"kiwi\"."
   ]
  },
  {
   "cell_type": "code",
   "execution_count": 1,
   "id": "4873f9af",
   "metadata": {},
   "outputs": [
    {
     "data": {
      "text/plain": [
       "['apple', 'banana', 'orange', 'grape', 'kiwi']"
      ]
     },
     "execution_count": 1,
     "metadata": {},
     "output_type": "execute_result"
    }
   ],
   "source": [
    "fruits = [\"apple\",\"banana\",\"orange\",\"grape\",\"kiwi\"]\n",
    "fruits"
   ]
  },
  {
   "cell_type": "markdown",
   "id": "5ca26b01",
   "metadata": {},
   "source": [
    "### b) Add \"pear\" to the end of the list."
   ]
  },
  {
   "cell_type": "code",
   "execution_count": 2,
   "id": "e0256a40",
   "metadata": {},
   "outputs": [
    {
     "data": {
      "text/plain": [
       "['apple', 'banana', 'orange', 'grape', 'kiwi', 'pear']"
      ]
     },
     "execution_count": 2,
     "metadata": {},
     "output_type": "execute_result"
    }
   ],
   "source": [
    "fruits.append(\"pear\")\n",
    "fruits"
   ]
  },
  {
   "cell_type": "markdown",
   "id": "84fb8f79",
   "metadata": {},
   "source": [
    "### c) Insert \"mango\" at the second position in the list."
   ]
  },
  {
   "cell_type": "code",
   "execution_count": 3,
   "id": "625b79dc",
   "metadata": {},
   "outputs": [
    {
     "data": {
      "text/plain": [
       "['apple', 'mango', 'banana', 'orange', 'grape', 'kiwi', 'pear']"
      ]
     },
     "execution_count": 3,
     "metadata": {},
     "output_type": "execute_result"
    }
   ],
   "source": [
    "fruits.insert(1,\"mango\")\n",
    "fruits"
   ]
  },
  {
   "cell_type": "markdown",
   "id": "a3384d3d",
   "metadata": {},
   "source": [
    "### d) Remove \"orange\" from the list."
   ]
  },
  {
   "cell_type": "code",
   "execution_count": 4,
   "id": "07ac5e77",
   "metadata": {},
   "outputs": [
    {
     "data": {
      "text/plain": [
       "['apple', 'mango', 'banana', 'grape', 'kiwi', 'pear']"
      ]
     },
     "execution_count": 4,
     "metadata": {},
     "output_type": "execute_result"
    }
   ],
   "source": [
    "fruits.__delitem__(3)\n",
    "fruits"
   ]
  },
  {
   "cell_type": "markdown",
   "id": "7abafbb8",
   "metadata": {},
   "source": [
    "# Question 2: Slicing and Indexing"
   ]
  },
  {
   "cell_type": "markdown",
   "id": "6bb9ba57",
   "metadata": {},
   "source": [
    "### a) Create a list named `numbers` containing the integers from 0 to 9. \n",
    "### b) Print the element at index 3\n",
    "### c) Print a sublist containing the elements from index 2 to 6 (inclusive).\n",
    "### d) Print the last three elements using negative indexing."
   ]
  },
  {
   "cell_type": "code",
   "execution_count": 9,
   "id": "b1488269",
   "metadata": {},
   "outputs": [
    {
     "name": "stdout",
     "output_type": "stream",
     "text": [
      "[0, 1, 2, 3, 4, 5, 6, 7, 8, 9]\n",
      "3\n",
      "[2, 3, 4, 5, 6]\n",
      "[9, 8, 7]\n"
     ]
    }
   ],
   "source": [
    "numbers = list(range(0,10))\n",
    "print(numbers)\n",
    "print(numbers[3])\n",
    "print(numbers[2:7])\n",
    "print(numbers[-1:-4:-1])"
   ]
  },
  {
   "cell_type": "markdown",
   "id": "70c7ee8f",
   "metadata": {},
   "source": [
    "# Question 3: List Comprehension\n",
    "### a) Create a list named `squares` using a list comprehension that contains the squares of numbers from 1 to 10.\n",
    "                \n",
    "### b) Create a new list named `even_squares` using a list comprehension that contains the squares of even numbers from the `squares` list."
   ]
  },
  {
   "cell_type": "code",
   "execution_count": 24,
   "id": "b12ded34",
   "metadata": {},
   "outputs": [
    {
     "name": "stdout",
     "output_type": "stream",
     "text": [
      "[1, 4, 9, 16, 25, 36, 49, 64, 81, 100]\n",
      "[4, 16, 36, 64, 100]\n"
     ]
    }
   ],
   "source": [
    "squares = [i**2 for i in range(1,11)]\n",
    "print (squares)\n",
    "even_squares = [i for i in squares if i%2== 0]\n",
    "print(even_squares)"
   ]
  },
  {
   "cell_type": "markdown",
   "id": "56c6f0bb",
   "metadata": {},
   "source": [
    "# Question 4: List Manipulation\n",
    "### a) Create a list named `colors` containing the following items: \"red\", \"green\", \"blue\", \"yellow\", \"purple\".\n",
    "### b) Swap the first and last elements of the list.\n",
    "### c) Reverse the order of the list.\n",
    "### d) Remove the second and third elements from the list."
   ]
  },
  {
   "cell_type": "code",
   "execution_count": 36,
   "id": "c3d64705",
   "metadata": {},
   "outputs": [
    {
     "name": "stdout",
     "output_type": "stream",
     "text": [
      "['purple', 'green', 'blue', 'yellow', 'red']\n",
      "['red', 'yellow', 'blue', 'green', 'purple']\n"
     ]
    },
    {
     "data": {
      "text/plain": [
       "['red', 'green', 'purple']"
      ]
     },
     "execution_count": 36,
     "metadata": {},
     "output_type": "execute_result"
    }
   ],
   "source": [
    "colors=[\"red\", \"green\", \"blue\", \"yellow\", \"purple\"]\n",
    "colors[0],colors[-1] = colors[-1],colors[0]\n",
    "print(colors)\n",
    "colors.reverse()\n",
    "print(colors)\n",
    "del colors[1:3]\n",
    "colors\n"
   ]
  },
  {
   "cell_type": "markdown",
   "id": "8dfea021",
   "metadata": {},
   "source": [
    "# Question 5: Advanced Slicing\n",
    "### a) Create a list named `letters` containing the letters from 'a' to 'j'.\n",
    "### c) Using slicing, create a new list `last_three` containing the last three elements of the `letters` list."
   ]
  },
  {
   "cell_type": "code",
   "execution_count": 44,
   "id": "9af671f4",
   "metadata": {},
   "outputs": [
    {
     "name": "stdout",
     "output_type": "stream",
     "text": [
      "['a', 'b', 'c', 'd', 'e']\n",
      "['j', 'i', 'h']\n"
     ]
    }
   ],
   "source": [
    "letters = ['a','b','c','d','e','f','g','h','i','j']\n",
    "letters[0:5:1]  # method 1 manual\n",
    "first_half = letters[0:(len(letters)//2)]  # method 2 auto\n",
    "print(first_half)\n",
    "last_three = letters[-1:-4:-1]\n",
    "print(last_three)"
   ]
  },
  {
   "cell_type": "markdown",
   "id": "5ab85004",
   "metadata": {},
   "source": [
    "# Question 6: Nested Lists\n",
    " a) Create a nested list named `matrix` with the following rows:\n",
    "- [1, 2, 3]\n",
    "- [4, 5, 6]\n",
    "- [7, 8, 9]\n",
    "\n",
    " b) Print the element in the second row and third column.\n",
    " \n",
    " c) Use nested indexing to change the value at the second row and first column to 0."
   ]
  },
  {
   "cell_type": "code",
   "execution_count": 52,
   "id": "0c2f1652",
   "metadata": {},
   "outputs": [
    {
     "name": "stdout",
     "output_type": "stream",
     "text": [
      "[[1, 2, 3], [4, 5, 6], [7, 8, 9]]\n",
      "6\n",
      "[[1, 2, 3], [0, 5, 6], [7, 8, 9]]\n"
     ]
    }
   ],
   "source": [
    "matrix=[[1, 2, 3],[4, 5, 6],[7, 8, 9]]\n",
    "print(matrix)\n",
    "print (matrix[1][2])\n",
    "matrix[1][0]=0\n",
    "print (matrix)"
   ]
  },
  {
   "cell_type": "code",
   "execution_count": null,
   "id": "61d6508e",
   "metadata": {},
   "outputs": [],
   "source": []
  }
 ],
 "metadata": {
  "kernelspec": {
   "display_name": "Python 3 (ipykernel)",
   "language": "python",
   "name": "python3"
  },
  "language_info": {
   "codemirror_mode": {
    "name": "ipython",
    "version": 3
   },
   "file_extension": ".py",
   "mimetype": "text/x-python",
   "name": "python",
   "nbconvert_exporter": "python",
   "pygments_lexer": "ipython3",
   "version": "3.11.3"
  }
 },
 "nbformat": 4,
 "nbformat_minor": 5
}
