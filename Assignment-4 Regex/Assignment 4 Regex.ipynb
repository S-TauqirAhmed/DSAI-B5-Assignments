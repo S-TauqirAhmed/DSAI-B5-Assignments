{
 "cells": [
  {
   "cell_type": "markdown",
   "id": "8b8a0928",
   "metadata": {},
   "source": [
    "## S. Tauqir Ahmed"
   ]
  },
  {
   "cell_type": "markdown",
   "id": "f018083f",
   "metadata": {},
   "source": [
    "#### Assignment 1: Extracting Phone Numbers\n",
    "Raw Text: Extract all valid Pakistani phone numbers from a given text.\n",
    "\n",
    "Example:\n",
    "\n",
    "Text: Please contact me at 0301-1234567 or 042-35678901 for further details."
   ]
  },
  {
   "cell_type": "code",
   "execution_count": 197,
   "id": "2d0521c7",
   "metadata": {},
   "outputs": [
    {
     "data": {
      "text/plain": [
       "['0301-1234567', '042-35678901']"
      ]
     },
     "execution_count": 197,
     "metadata": {},
     "output_type": "execute_result"
    }
   ],
   "source": [
    "import re\n",
    "text= \"\"\"Please contact me at 0301-1234567 or 042-35678901 for further details\"\"\"\n",
    "pattern=\"\\d{3,4}-\\d{7,8}\" \n",
    "l=re.findall(pattern,text)\n",
    "l"
   ]
  },
  {
   "cell_type": "markdown",
   "id": "99fb4591",
   "metadata": {},
   "source": [
    "Assignment 2: Validating Email Addresses\n",
    "Raw Text: Validate email addresses according to Pakistani domain extensions (.pk).\n",
    "\n",
    "Example:\n",
    "\n",
    "Text: Contact us at info@example.com or support@domain.pk for assistance."
   ]
  },
  {
   "cell_type": "code",
   "execution_count": 101,
   "id": "4d6ca551",
   "metadata": {},
   "outputs": [
    {
     "data": {
      "text/plain": [
       "['s-up_po.rt@domain.pk']"
      ]
     },
     "execution_count": 101,
     "metadata": {},
     "output_type": "execute_result"
    }
   ],
   "source": [
    "text=\"\"\"Contact us at info1@example.com or\n",
    "s-up_po.rt@domain.pk for assistance.\n",
    "\"\"\"\n",
    "pattern=r\"\\b[\\w.-]+@[\\w.-]+.pk\\b\"\n",
    "l=re.findall(pattern,text)\n",
    "l"
   ]
  },
  {
   "cell_type": "markdown",
   "id": "b91f1076",
   "metadata": {},
   "source": [
    "Assignment 3: Extracting CNIC Numbers\n",
    "Raw Text: Extract all Pakistani CNIC (Computerized National Identity Card) numbers from a given text.\n",
    "\n",
    "Example:\n",
    "\n",
    "Text: My CNIC is 12345-6789012-3 and another one is 34567-8901234-5."
   ]
  },
  {
   "cell_type": "code",
   "execution_count": 122,
   "id": "e1e460f7",
   "metadata": {},
   "outputs": [
    {
     "data": {
      "text/plain": [
       "['12345-6789012-3', '34567-8901234-5']"
      ]
     },
     "execution_count": 122,
     "metadata": {},
     "output_type": "execute_result"
    }
   ],
   "source": [
    "import re\n",
    "text=\"\"\"My CNIC is 12345-6789012-3 and another one is 34567-8901234-5.\"\"\"\n",
    "pattern=r\"\\b\\d{5}-\\d{7}-\\d{1}\\b\"\n",
    "l=re.findall(pattern,text)\n",
    "l"
   ]
  },
  {
   "cell_type": "markdown",
   "id": "dae677cc",
   "metadata": {},
   "source": [
    "Assignment 4: Identifying Urdu Words\n",
    "Raw Text: Identify and extract Urdu words from a mixed English-Urdu text.\n",
    "\n",
    "Example:\n",
    "\n",
    "Text: یہ sentence میں کچھ English words بھی ہیں۔"
   ]
  },
  {
   "cell_type": "code",
   "execution_count": 147,
   "id": "76e3afbc",
   "metadata": {},
   "outputs": [
    {
     "data": {
      "text/plain": [
       "['یہ', 'میں', 'کچھ', 'بھی', 'ہیں']"
      ]
     },
     "execution_count": 147,
     "metadata": {},
     "output_type": "execute_result"
    }
   ],
   "source": [
    "text= \"\"\"یہ sentence میں کچھ English words  بھی ہیں\"\"\"\n",
    "pattern = r\"\\b[^\\s\\-A-z]+\\b\"  \n",
    "u = re.findall(pattern,text)\n",
    "u"
   ]
  },
  {
   "cell_type": "markdown",
   "id": "cf19de36",
   "metadata": {},
   "source": [
    "Assignment 5: Finding Dates\n",
    "Raw Text: Find and extract dates in the format DD-MM-YYYY from a given text.\n",
    "\n",
    "Example:\n",
    "\n",
    "Text: The event will take place on 15-08-2023 and 23-09-2023."
   ]
  },
  {
   "cell_type": "code",
   "execution_count": 76,
   "id": "d71372c2",
   "metadata": {},
   "outputs": [
    {
     "data": {
      "text/plain": [
       "['15-08-2023', '23-09-2023']"
      ]
     },
     "execution_count": 76,
     "metadata": {},
     "output_type": "execute_result"
    }
   ],
   "source": [
    "import re\n",
    "text= \"\"\"The event will take place on 15-08-2023 and 23-09-2023.\"\"\" \n",
    "\n",
    "pattern= \"\\d{1,2}-\\d{1,2}-\\d{2,4}\"\n",
    "l=re.findall(pattern,text)\n",
    "l"
   ]
  },
  {
   "cell_type": "markdown",
   "id": "d6193fb5",
   "metadata": {},
   "source": [
    "Assignment 6: Extracting URLs\n",
    "Raw Text: Extract all URLs from a text that belong to Pakistani domains.\n",
    "\n",
    "Example:\n",
    "\n",
    "Text: Visit http://www.example.pk or https://website.com.pk for more information."
   ]
  },
  {
   "cell_type": "code",
   "execution_count": 75,
   "id": "120342ce",
   "metadata": {},
   "outputs": [
    {
     "data": {
      "text/plain": [
       "['http://www.example.pk', 'https://website.com.pk']"
      ]
     },
     "execution_count": 75,
     "metadata": {},
     "output_type": "execute_result"
    }
   ],
   "source": [
    "import re\n",
    "text= \"\"\"Visit http://www.example.pk or https://website.com.pk or \n",
    "https://website.com.uk for more information.\"\"\"\n",
    "pattern= \"https?+\\S+\\.pk\"\n",
    "l=re.findall(pattern,text)\n",
    "l"
   ]
  },
  {
   "cell_type": "markdown",
   "id": "673dc6e4",
   "metadata": {},
   "source": [
    "Assignment 7: Analyzing Currency\n",
    "Raw Text: Extract and analyze currency amounts in Pakistani Rupees (PKR) from a given text.\n",
    "\n",
    "Example:\n",
    "\n",
    "Text: The product costs PKR 1500, while the deluxe version is priced at Rs. 2500."
   ]
  },
  {
   "cell_type": "code",
   "execution_count": 54,
   "id": "58bc95a2",
   "metadata": {},
   "outputs": [
    {
     "data": {
      "text/plain": [
       "['PKR 1500', 'PKR 2500']"
      ]
     },
     "execution_count": 54,
     "metadata": {},
     "output_type": "execute_result"
    }
   ],
   "source": [
    "import re\n",
    "text= \"\"\"\n",
    "The product costs PKR 1500, while the deluxe \n",
    "version is priced at Rs. 2500.\n",
    "\"\"\"\n",
    "new_text=re.sub(\"Rs.\" , \"PKR\",text)\n",
    "pattern= r\"\\b\\w{3} \\d{4}\\b\"\n",
    "l=re.findall(pattern,new_text)\n",
    "l"
   ]
  },
  {
   "cell_type": "markdown",
   "id": "8f79a838",
   "metadata": {},
   "source": [
    "Assignment 8: Removing Punctuation\n",
    "Raw Text: Remove all punctuation marks from a text while preserving Urdu characters.\n",
    "\n",
    "Example:\n",
    "\n",
    "Text: کیا! آپ, یہاں؟"
   ]
  },
  {
   "cell_type": "code",
   "execution_count": 46,
   "id": "b2ef8e9e",
   "metadata": {},
   "outputs": [
    {
     "data": {
      "text/plain": [
       "['کیا', 'آپ', 'یہاں']"
      ]
     },
     "execution_count": 46,
     "metadata": {},
     "output_type": "execute_result"
    }
   ],
   "source": [
    "import re\n",
    "text= \"\"\"\n",
    "کیا! آپ, یہاں؟\n",
    "\"\"\"\n",
    "pattern= r\"\\b[^\\s A-z]+\\b\"\n",
    "l=re.findall(pattern,text)\n",
    "l"
   ]
  },
  {
   "cell_type": "markdown",
   "id": "8e095dbe",
   "metadata": {},
   "source": [
    "### Assignment 9: Extracting City Names\n",
    "Raw Text: Extract names of Pakistani cities from a given text.\n",
    "\n",
    "Example:\n",
    "\n",
    "Text: Lahore, Karachi, Islamabad, and Peshawar are major cities of Pakistan."
   ]
  },
  {
   "cell_type": "code",
   "execution_count": 34,
   "id": "28b3733a",
   "metadata": {},
   "outputs": [
    {
     "data": {
      "text/plain": [
       "['Lahore,', 'Karachi,', 'Islamabad,', 'Peshawar ']"
      ]
     },
     "execution_count": 34,
     "metadata": {},
     "output_type": "execute_result"
    }
   ],
   "source": [
    "import re\n",
    "text= \"\"\"Lahore, Karachi, Islamabad, and Peshawar are major cities of Pakistan.\"\"\"\n",
    "#pattern=\"(Lahore), (Karachi), (Islamabad), and (Peshawar) are major cities of Pakistan\" \n",
    "pattern= r\"\\b[A-Z][a-z]+\\b[^.]\"\n",
    "l=re.findall(pattern,text)\n",
    "l"
   ]
  },
  {
   "cell_type": "code",
   "execution_count": null,
   "id": "345c130c",
   "metadata": {},
   "outputs": [],
   "source": []
  },
  {
   "cell_type": "markdown",
   "id": "7fb6796a",
   "metadata": {},
   "source": [
    "##### Assignment 10: Analyzing Vehicle Numbers\n",
    "Raw Text: Identify and extract Pakistani vehicle registration numbers (e.g., ABC-123) from a text.\n",
    "\n",
    "Example:\n",
    "\n",
    "Text: I saw a car with the number plate LEA-567 near the market."
   ]
  },
  {
   "cell_type": "code",
   "execution_count": 1,
   "id": "63a59ef2",
   "metadata": {},
   "outputs": [
    {
     "data": {
      "text/plain": [
       "['LEA-567']"
      ]
     },
     "execution_count": 1,
     "metadata": {},
     "output_type": "execute_result"
    }
   ],
   "source": [
    "import re\n",
    "text= \"\"\"I saw a car with the number plate LEA-567 near the market.\"\"\"\n",
    "pattern=\"\\w{3}-\\d{3}\" \n",
    "l=re.findall(pattern,text)\n",
    "l"
   ]
  },
  {
   "cell_type": "code",
   "execution_count": null,
   "id": "c4cc65bb",
   "metadata": {},
   "outputs": [],
   "source": []
  },
  {
   "cell_type": "code",
   "execution_count": null,
   "id": "fd7b7696",
   "metadata": {},
   "outputs": [],
   "source": []
  }
 ],
 "metadata": {
  "kernelspec": {
   "display_name": "Python 3 (ipykernel)",
   "language": "python",
   "name": "python3"
  },
  "language_info": {
   "codemirror_mode": {
    "name": "ipython",
    "version": 3
   },
   "file_extension": ".py",
   "mimetype": "text/x-python",
   "name": "python",
   "nbconvert_exporter": "python",
   "pygments_lexer": "ipython3",
   "version": "3.11.3"
  }
 },
 "nbformat": 4,
 "nbformat_minor": 5
}
