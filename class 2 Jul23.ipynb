{
 "cells": [
  {
   "cell_type": "code",
   "execution_count": 3,
   "id": "e99b78d9",
   "metadata": {},
   "outputs": [
    {
     "name": "stdout",
     "output_type": "stream",
     "text": [
      "3\n"
     ]
    }
   ],
   "source": [
    "\n",
    "a=1\n",
    "b=2\n",
    "print(a+b)#notes"
   ]
  },
  {
   "cell_type": "raw",
   "id": "28620841",
   "metadata": {},
   "source": [
    "ned uni"
   ]
  },
  {
   "cell_type": "code",
   "execution_count": 6,
   "id": "c5985be1",
   "metadata": {},
   "outputs": [
    {
     "data": {
      "text/plain": [
       "int"
      ]
     },
     "execution_count": 6,
     "metadata": {},
     "output_type": "execute_result"
    }
   ],
   "source": [
    "type(a)\n"
   ]
  },
  {
   "cell_type": "code",
   "execution_count": 7,
   "id": "8a554de6",
   "metadata": {},
   "outputs": [
    {
     "data": {
      "text/plain": [
       "140712449839912"
      ]
     },
     "execution_count": 7,
     "metadata": {},
     "output_type": "execute_result"
    }
   ],
   "source": [
    "id(a)"
   ]
  },
  {
   "cell_type": "code",
   "execution_count": 10,
   "id": "3d37a920",
   "metadata": {},
   "outputs": [
    {
     "name": "stdout",
     "output_type": "stream",
     "text": [
      "{1, 2, 3}\n"
     ]
    },
    {
     "data": {
      "text/plain": [
       "set"
      ]
     },
     "execution_count": 10,
     "metadata": {},
     "output_type": "execute_result"
    }
   ],
   "source": [
    "a={1,2,2,1,3}#unique value will be stored\n",
    "print(a)\n",
    "type(a)\n",
    "\n"
   ]
  },
  {
   "cell_type": "code",
   "execution_count": 13,
   "id": "6d25be8d",
   "metadata": {},
   "outputs": [
    {
     "name": "stdout",
     "output_type": "stream",
     "text": [
      "{1, 2, 3} <class 'set'> 2256068157824\n"
     ]
    }
   ],
   "source": [
    "print (a, type(a), id(a))"
   ]
  },
  {
   "cell_type": "code",
   "execution_count": 14,
   "id": "8d19cdd6",
   "metadata": {},
   "outputs": [
    {
     "name": "stdout",
     "output_type": "stream",
     "text": [
      "14\n"
     ]
    }
   ],
   "source": [
    "a=7\n",
    "print (a+a)"
   ]
  },
  {
   "cell_type": "code",
   "execution_count": 17,
   "id": "d594ce24",
   "metadata": {},
   "outputs": [
    {
     "name": "stdout",
     "output_type": "stream",
     "text": [
      "77\n"
     ]
    }
   ],
   "source": [
    "a='7'\n",
    "print (a+a)\n"
   ]
  },
  {
   "cell_type": "code",
   "execution_count": 25,
   "id": "0f50a062",
   "metadata": {},
   "outputs": [
    {
     "name": "stdout",
     "output_type": "stream",
     "text": [
      "506.25\n"
     ]
    }
   ],
   "source": [
    "a=22.5\n",
    "print (a1*a)"
   ]
  },
  {
   "cell_type": "code",
   "execution_count": 26,
   "id": "d9657d2c",
   "metadata": {},
   "outputs": [
    {
     "name": "stdout",
     "output_type": "stream",
     "text": [
      "140712449839912 140712449839912\n"
     ]
    }
   ],
   "source": [
    "a=1\n",
    "b=1\n",
    "print (id(a), id(b))"
   ]
  },
  {
   "cell_type": "markdown",
   "id": "3338f210",
   "metadata": {},
   "source": [
    "<img src = \"operators.png\">"
   ]
  },
  {
   "cell_type": "code",
   "execution_count": null,
   "id": "80b2662b",
   "metadata": {},
   "outputs": [],
   "source": []
  },
  {
   "cell_type": "markdown",
   "id": "130bf023",
   "metadata": {},
   "source": [
    "<img src= \"operators.png\">"
   ]
  },
  {
   "cell_type": "markdown",
   "id": "e40f26f3",
   "metadata": {},
   "source": [
    "## Arithmatic operators"
   ]
  },
  {
   "cell_type": "code",
   "execution_count": 29,
   "id": "e4cf91fa",
   "metadata": {},
   "outputs": [
    {
     "name": "stdout",
     "output_type": "stream",
     "text": [
      "2\n"
     ]
    }
   ],
   "source": [
    "print (11 % 3)# modulus"
   ]
  },
  {
   "cell_type": "code",
   "execution_count": 33,
   "id": "ecdbaa40",
   "metadata": {},
   "outputs": [
    {
     "name": "stdout",
     "output_type": "stream",
     "text": [
      "9\n"
     ]
    }
   ],
   "source": [
    "print (3*3)# square ^ cant be used"
   ]
  },
  {
   "cell_type": "code",
   "execution_count": 43,
   "id": "cb31590d",
   "metadata": {},
   "outputs": [
    {
     "name": "stdout",
     "output_type": "stream",
     "text": [
      "5\n"
     ]
    }
   ],
   "source": [
    "print (11//2)# float only number before decimal is displayed"
   ]
  },
  {
   "cell_type": "code",
   "execution_count": 40,
   "id": "8f05e7d7",
   "metadata": {},
   "outputs": [
    {
     "name": "stdout",
     "output_type": "stream",
     "text": [
      "11\n"
     ]
    }
   ],
   "source": [
    "a+=10  # gives value of variable stored previously \n",
    "print (a)\n"
   ]
  },
  {
   "cell_type": "code",
   "execution_count": 41,
   "id": "bfafb06e",
   "metadata": {},
   "outputs": [
    {
     "data": {
      "text/plain": [
       "False"
      ]
     },
     "execution_count": 41,
     "metadata": {},
     "output_type": "execute_result"
    }
   ],
   "source": [
    "a==b # comparison operator "
   ]
  },
  {
   "cell_type": "code",
   "execution_count": 44,
   "id": "c247eba2",
   "metadata": {},
   "outputs": [
    {
     "data": {
      "text/plain": [
       "True"
      ]
     },
     "execution_count": 44,
     "metadata": {},
     "output_type": "execute_result"
    }
   ],
   "source": [
    "a>b"
   ]
  },
  {
   "cell_type": "code",
   "execution_count": null,
   "id": "f6b646d0",
   "metadata": {},
   "outputs": [],
   "source": []
  },
  {
   "cell_type": "code",
   "execution_count": null,
   "id": "a22b65ac",
   "metadata": {},
   "outputs": [],
   "source": []
  },
  {
   "cell_type": "code",
   "execution_count": null,
   "id": "6b2bb7d7",
   "metadata": {},
   "outputs": [],
   "source": []
  },
  {
   "cell_type": "code",
   "execution_count": 46,
   "id": "87a387d5",
   "metadata": {},
   "outputs": [
    {
     "data": {
      "text/plain": [
       "True"
      ]
     },
     "execution_count": 46,
     "metadata": {},
     "output_type": "execute_result"
    }
   ],
   "source": [
    "b<a"
   ]
  },
  {
   "cell_type": "code",
   "execution_count": null,
   "id": "d3305ecb",
   "metadata": {},
   "outputs": [],
   "source": []
  },
  {
   "cell_type": "code",
   "execution_count": null,
   "id": "125c0b82",
   "metadata": {},
   "outputs": [],
   "source": []
  },
  {
   "cell_type": "code",
   "execution_count": 47,
   "id": "fbf08f6d",
   "metadata": {},
   "outputs": [],
   "source": [
    "a=1\n",
    "b=2\n"
   ]
  },
  {
   "cell_type": "code",
   "execution_count": 52,
   "id": "3ac063e6",
   "metadata": {},
   "outputs": [
    {
     "name": "stdout",
     "output_type": "stream",
     "text": [
      "True\n",
      "False\n",
      "True\n",
      "False\n"
     ]
    }
   ],
   "source": [
    "print (True or True or True)\n",
    "print (False and False and False)\n",
    "print (False or False or True)\n",
    "print (True and True and True and True and False) # only if all are true will return True"
   ]
  }
 ],
 "metadata": {
  "kernelspec": {
   "display_name": "Python 3 (ipykernel)",
   "language": "python",
   "name": "python3"
  },
  "language_info": {
   "codemirror_mode": {
    "name": "ipython",
    "version": 3
   },
   "file_extension": ".py",
   "mimetype": "text/x-python",
   "name": "python",
   "nbconvert_exporter": "python",
   "pygments_lexer": "ipython3",
   "version": "3.11.3"
  }
 },
 "nbformat": 4,
 "nbformat_minor": 5
}
